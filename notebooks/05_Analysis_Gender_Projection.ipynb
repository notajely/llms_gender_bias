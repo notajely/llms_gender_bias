{
 "cells": [
  {
   "cell_type": "markdown",
   "id": "69d93237",
   "metadata": {},
   "source": [
    "# Notebook 5: Gender Projection Analysis and Visualization\n",
    "\n",
    "**Objective:** Analyze occupational gender bias using geometric projection onto a defined gender axis ('man' - 'woman'). This involves:\n",
    "1. Loading the pre-generated GPT-2 embeddings and the validated occupation dictionary.\n",
    "2. Defining the gender axis based on the vector difference between 'man' and 'woman' embeddings.\n",
    "3. Normalizing the gender axis.\n",
    "4. Calculating the projection score for each occupation by taking the dot product of its embedding with the normalized gender axis.\n",
    "5. Visualizing the projection scores using a bar plot, highlighting the most extreme positive and potentially negative scores (similar to Figure 6).\n",
    "6. Saving the calculated projection scores."
   ]
  },
  {
   "cell_type": "markdown",
   "id": "3af9447e",
   "metadata": {},
   "source": [
    "## 1. Import Libraries"
   ]
  },
  {
   "cell_type": "code",
   "execution_count": 1,
   "id": "d1362865",
   "metadata": {},
   "outputs": [],
   "source": [
    "import pandas as pd\n",
    "import numpy as np\n",
    "import seaborn as sns\n",
    "import matplotlib.pyplot as plt\n",
    "import matplotlib.colors as mcolors # For color mapping\n",
    "import matplotlib.cm as cm # For colormaps\n",
    "from pathlib import Path\n",
    "import os"
   ]
  },
  {
   "cell_type": "markdown",
   "id": "5436d4db",
   "metadata": {},
   "source": [
    "## 2. Configuration"
   ]
  },
  {
   "cell_type": "code",
   "execution_count": 2,
   "id": "00745228",
   "metadata": {},
   "outputs": [],
   "source": [
    "# --- Paths ---\n",
    "# Get project root assuming the notebook is in 'notebooks' directory\n",
    "current_dir = Path.cwd()\n",
    "project_root = current_dir.parent"
   ]
  },
  {
   "cell_type": "code",
   "execution_count": 3,
   "id": "012f57d5",
   "metadata": {},
   "outputs": [],
   "source": [
    "# Input files\n",
    "DICT_INPUT_CSV = project_root / 'results' / 'occupation_dictionary_validated.csv'\n",
    "EMBEDDING_INPUT_FILE = project_root / 'results' / 'gpt2_static_embeddings.npz'"
   ]
  },
  {
   "cell_type": "code",
   "execution_count": 4,
   "id": "a81eacee",
   "metadata": {},
   "outputs": [],
   "source": [
    "# Output files\n",
    "RESULTS_DIR = project_root / 'results'\n",
    "PROJECTION_SCORES_OUTPUT_CSV = RESULTS_DIR / 'gender_projection_results.csv'\n",
    "PROJECTION_BARPLOT_OUTPUT_PNG = RESULTS_DIR / 'gender_projection_barplot_figure6.png'"
   ]
  },
  {
   "cell_type": "code",
   "execution_count": 5,
   "id": "e05c6ba0",
   "metadata": {},
   "outputs": [],
   "source": [
    "# --- Parameters ---\n",
    "GENDER_AXIS_TERMS = ('man', 'woman') # Terms defining the axis\n",
    "# Number of occupations for the bar plot (e.g., 20 highest positive, 20 lowest - total 40 as per paper)\n",
    "BARPLOT_NUM_OCCUPATIONS = 40"
   ]
  },
  {
   "cell_type": "code",
   "execution_count": 6,
   "id": "31ca4e80",
   "metadata": {},
   "outputs": [],
   "source": [
    "# Create results directory if it doesn't exist\n",
    "RESULTS_DIR.mkdir(parents=True, exist_ok=True)"
   ]
  },
  {
   "cell_type": "markdown",
   "id": "89d47b08",
   "metadata": {},
   "source": [
    "## 3. Load Data"
   ]
  },
  {
   "cell_type": "code",
   "execution_count": 7,
   "id": "d0a385e1",
   "metadata": {},
   "outputs": [
    {
     "name": "stdout",
     "output_type": "stream",
     "text": [
      "Loaded dictionary with 100 occupations.\n"
     ]
    }
   ],
   "source": [
    "# Load occupation dictionary\n",
    "try:\n",
    "    df_dictionary = pd.read_csv(DICT_INPUT_CSV)\n",
    "    print(f\"Loaded dictionary with {len(df_dictionary)} occupations.\")\n",
    "except FileNotFoundError:\n",
    "    print(f\"Error: Dictionary file not found at {DICT_INPUT_CSV}\")\n",
    "    print(\"Please ensure Notebook 1 ran successfully.\")\n",
    "    raise\n",
    "except Exception as e:\n",
    "    print(f\"Error loading dictionary CSV: {e}\")\n",
    "    raise"
   ]
  },
  {
   "cell_type": "code",
   "execution_count": 8,
   "id": "e517b3e7",
   "metadata": {},
   "outputs": [
    {
     "name": "stdout",
     "output_type": "stream",
     "text": [
      "Loaded 104 embeddings.\n"
     ]
    }
   ],
   "source": [
    "# Load embeddings\n",
    "try:\n",
    "    embeddings_data = np.load(EMBEDDING_INPUT_FILE, allow_pickle=True)\n",
    "    embeddings = {key: embeddings_data[key] for key in embeddings_data.files}\n",
    "    print(f\"Loaded {len(embeddings)} embeddings.\")\n",
    "except FileNotFoundError:\n",
    "    print(f\"Error: Embeddings file not found at {EMBEDDING_INPUT_FILE}\")\n",
    "    print(\"Please ensure Notebook 2 ran successfully.\")\n",
    "    raise\n",
    "except Exception as e:\n",
    "    print(f\"Error loading embeddings file: {e}\")\n",
    "    raise"
   ]
  },
  {
   "cell_type": "code",
   "execution_count": 9,
   "id": "2f56c9ee",
   "metadata": {
    "lines_to_next_cell": 2
   },
   "outputs": [],
   "source": [
    "# Verify essential gender embeddings for the axis are loaded\n",
    "term1, term2 = GENDER_AXIS_TERMS\n",
    "if term1 not in embeddings or term2 not in embeddings:\n",
    "    missing_axis_terms = [t for t in GENDER_AXIS_TERMS if t not in embeddings]\n",
    "    raise ValueError(f\"Essential gender axis term embeddings missing from file: {missing_axis_terms}\")"
   ]
  },
  {
   "cell_type": "markdown",
   "id": "08f9fcc6",
   "metadata": {},
   "source": [
    "## 4. Define Gender Axis and Calculate Projections"
   ]
  },
  {
   "cell_type": "code",
   "execution_count": 10,
   "id": "6564db7b",
   "metadata": {},
   "outputs": [],
   "source": [
    "# Define gender axis\n",
    "man_emb = embeddings[term1]\n",
    "woman_emb = embeddings[term2]\n",
    "gender_axis = man_emb - woman_emb"
   ]
  },
  {
   "cell_type": "code",
   "execution_count": 11,
   "id": "a57e9bed",
   "metadata": {},
   "outputs": [
    {
     "name": "stdout",
     "output_type": "stream",
     "text": [
      "Gender axis ('man' - 'woman') defined and normalized.\n"
     ]
    }
   ],
   "source": [
    "# Normalize the gender axis\n",
    "norm = np.linalg.norm(gender_axis)\n",
    "if norm == 0:\n",
    "    raise ValueError(\"Gender axis vector has zero magnitude. Embeddings for 'man' and 'woman' might be identical.\")\n",
    "gender_axis_norm = gender_axis / norm\n",
    "print(f\"Gender axis ('{term1}' - '{term2}') defined and normalized.\")"
   ]
  },
  {
   "cell_type": "code",
   "execution_count": 12,
   "id": "7ea9643e",
   "metadata": {},
   "outputs": [],
   "source": [
    "# Calculate projection scores\n",
    "projection_results = []\n",
    "processed_occupations_proj = set()"
   ]
  },
  {
   "cell_type": "code",
   "execution_count": 13,
   "id": "d282e3e4",
   "metadata": {},
   "outputs": [],
   "source": [
    "for index, row in df_dictionary.iterrows():\n",
    "    occupation = row['occupation']\n",
    "\n",
    "    if occupation in processed_occupations_proj:\n",
    "        continue\n",
    "    processed_occupations_proj.add(occupation)\n",
    "\n",
    "    if occupation in embeddings:\n",
    "        occ_emb = embeddings[occupation]\n",
    "        try:\n",
    "            # Calculate dot product with normalized axis\n",
    "            projection_score = np.dot(occ_emb, gender_axis_norm)\n",
    "            projection_results.append({\n",
    "                'occupation': occupation,\n",
    "                'projection_score': projection_score\n",
    "            })\n",
    "        except Exception as e:\n",
    "            print(f\"Error calculating projection for '{occupation}': {e}\")\n",
    "    else:\n",
    "         print(f\"Warning: Embedding not found for occupation '{occupation}' during projection. Skipping.\")"
   ]
  },
  {
   "cell_type": "code",
   "execution_count": 14,
   "id": "183260c2",
   "metadata": {},
   "outputs": [],
   "source": [
    "# Convert results to DataFrame\n",
    "df_projections = pd.DataFrame(projection_results)"
   ]
  },
  {
   "cell_type": "code",
   "execution_count": 15,
   "id": "03305e61",
   "metadata": {},
   "outputs": [
    {
     "name": "stdout",
     "output_type": "stream",
     "text": [
      "Calculated projection scores for 100 occupations.\n"
     ]
    }
   ],
   "source": [
    "if df_projections.empty:\n",
    "     print(\"Error: No projection scores were generated. Check input data and embeddings.\")\n",
    "else:\n",
    "     print(f\"Calculated projection scores for {len(df_projections)} occupations.\")"
   ]
  },
  {
   "cell_type": "markdown",
   "id": "0d94e3d7",
   "metadata": {},
   "source": [
    "## 5. Merge Results and Calculate Median"
   ]
  },
  {
   "cell_type": "code",
   "execution_count": 16,
   "id": "17da7ca3",
   "metadata": {},
   "outputs": [],
   "source": [
    "# Merge calculated scores back into the main dictionary dataframe\n",
    "# Use outer merge first to keep all occupations, then merge projections\n",
    "df_merged_proj = pd.merge(df_dictionary, df_projections, on='occupation', how='left')"
   ]
  },
  {
   "cell_type": "code",
   "execution_count": 17,
   "id": "9154855f",
   "metadata": {},
   "outputs": [
    {
     "name": "stdout",
     "output_type": "stream",
     "text": [
      "Median projection score across all occupations: 14.3177\n"
     ]
    }
   ],
   "source": [
    "# Calculate the median projection score across ALL occupations with a valid score\n",
    "median_projection_score = df_merged_proj['projection_score'].median()\n",
    "print(f\"Median projection score across all occupations: {median_projection_score:.4f}\")"
   ]
  },
  {
   "cell_type": "code",
   "execution_count": 18,
   "id": "1f294329",
   "metadata": {},
   "outputs": [
    {
     "name": "stdout",
     "output_type": "stream",
     "text": [
      "Final merged dataframe shape (including projections): (100, 7)\n",
      "Merged DataFrame sample:\n",
      "            occupation           bls_label  projection_score\n",
      "0      chief executive             neutral          8.981798\n",
      "1              manager             neutral          7.611988\n",
      "2    marketing manager             neutral          0.537213\n",
      "3        sales manager             neutral         10.753222\n",
      "4  fundraising manager  female-stereotyped         -2.335274\n"
     ]
    }
   ],
   "source": [
    "print(f\"Final merged dataframe shape (including projections): {df_merged_proj.shape}\")\n",
    "print(\"Merged DataFrame sample:\")\n",
    "print(df_merged_proj[['occupation', 'bls_label', 'projection_score']].head())"
   ]
  },
  {
   "cell_type": "markdown",
   "id": "6723b3a1",
   "metadata": {},
   "source": [
    "## 6. Save Calculated Scores"
   ]
  },
  {
   "cell_type": "code",
   "execution_count": 19,
   "id": "c349824e",
   "metadata": {},
   "outputs": [
    {
     "name": "stdout",
     "output_type": "stream",
     "text": [
      "\n",
      "Saving calculated projection scores to /Users/jessie/Documents/Projects/master_thesis_llms_bias/results/gender_projection_results.csv...\n",
      "Projection scores saved successfully.\n"
     ]
    }
   ],
   "source": [
    "print(f\"\\nSaving calculated projection scores to {PROJECTION_SCORES_OUTPUT_CSV}...\")\n",
    "try:\n",
    "    # Save the merged dataframe which now includes projection scores\n",
    "    df_merged_proj.to_csv(PROJECTION_SCORES_OUTPUT_CSV, index=False, encoding='utf-8')\n",
    "    print(\"Projection scores saved successfully.\")\n",
    "except Exception as e:\n",
    "    print(f\"Error saving scores CSV: {e}\")"
   ]
  },
  {
   "cell_type": "markdown",
   "id": "3fd8d5bf",
   "metadata": {},
   "source": [
    "## 7. Generate Projection Bar Plot (Figure 6)"
   ]
  },
  {
   "cell_type": "code",
   "execution_count": 20,
   "id": "d9025879",
   "metadata": {
    "lines_to_next_cell": 2
   },
   "outputs": [
    {
     "name": "stderr",
     "output_type": "stream",
     "text": [
      "/var/folders/jj/84v_jpsx4rj3__y62xh3klxm0000gn/T/ipykernel_58003/612873535.py:47: FutureWarning: \n",
      "\n",
      "Passing `palette` without assigning `hue` is deprecated and will be removed in v0.14.0. Assign the `y` variable to `hue` and set `legend=False` for the same effect.\n",
      "\n",
      "  ax_proj_barplot = sns.barplot(\n",
      "/var/folders/jj/84v_jpsx4rj3__y62xh3klxm0000gn/T/ipykernel_58003/612873535.py:47: UserWarning: Numpy array is not a supported type for `palette`. Please convert your palette to a list. This will become an error in v0.14\n",
      "  ax_proj_barplot = sns.barplot(\n"
     ]
    },
    {
     "name": "stdout",
     "output_type": "stream",
     "text": [
      "Projection bar plot saved successfully to /Users/jessie/Documents/Projects/master_thesis_llms_bias/results/gender_projection_barplot_figure6.png\n"
     ]
    }
   ],
   "source": [
    "if df_merged_proj.empty or 'projection_score' not in df_merged_proj.columns:\n",
    "    print(\"Skipping projection bar plot generation: No data or 'projection_score' column missing.\")\n",
    "else:\n",
    "    # Sort by projection score (descending, highest score is most 'man'-aligned)\n",
    "    df_sorted_proj = df_merged_proj.sort_values('projection_score', ascending=False).dropna(subset=['projection_score'])\n",
    "\n",
    "    # Select top N/2 and bottom N/2 (N=BARPLOT_NUM_OCCUPATIONS)\n",
    "    n_each_proj = BARPLOT_NUM_OCCUPATIONS // 2\n",
    "    if len(df_sorted_proj) < BARPLOT_NUM_OCCUPATIONS:\n",
    "        print(f\"Warning: Fewer than {BARPLOT_NUM_OCCUPATIONS} occupations with valid scores ({len(df_sorted_proj)}). Plotting all available.\")\n",
    "        df_selected_proj = df_sorted_proj\n",
    "    elif len(df_sorted_proj) >= n_each_proj * 2:\n",
    "        top_n_proj = df_sorted_proj.head(n_each_proj)\n",
    "        # Important: bottom N/2 are lowest scores (least man-aligned / potentially woman-aligned)\n",
    "        bottom_n_proj = df_sorted_proj.tail(n_each_proj)\n",
    "        # Combine and re-sort by score for the plot order (descending)\n",
    "        df_selected_proj = pd.concat([top_n_proj, bottom_n_proj]).sort_values('projection_score', ascending=False)\n",
    "    else: # Handle cases with < n_each*2 but >= n_each\n",
    "         print(f\"Warning: Only {len(df_sorted_proj)} occupations available for bar plot. Plotting all.\")\n",
    "         df_selected_proj = df_sorted_proj\n",
    "\n",
    "\n",
    "    if df_selected_proj.empty:\n",
    "        print(\"Skipping projection bar plot: No occupations selected.\")\n",
    "    else:\n",
    "        # --- Create Plot ---\n",
    "        try:\n",
    "            # Adjust figure height\n",
    "            fig_height_proj = max(8, len(df_selected_proj) * 0.25) # Adjust multiplier for potentially many bars\n",
    "            plt.figure(figsize=(12, fig_height_proj))\n",
    "\n",
    "            # --- Color Mapping based on Score ---\n",
    "            # Use a diverging colormap like 'coolwarm' or 'RdBu_r' (Red=Positive/Male, Blue=Negative/Female)\n",
    "            cmap = cm.coolwarm\n",
    "            # Create a normalizer: map scores to the 0-1 range for the colormap\n",
    "            # Find min/max scores *within the selected data* for normalization range\n",
    "            vmin = df_selected_proj['projection_score'].min()\n",
    "            vmax = df_selected_proj['projection_score'].max()\n",
    "            # Center the normalization around 0 if scores span positive and negative\n",
    "            norm_center = 0\n",
    "            norm = mcolors.TwoSlopeNorm(vcenter=norm_center, vmin=vmin, vmax=vmax)\n",
    "            # Create colors for each bar\n",
    "            colors = cmap(norm(df_selected_proj['projection_score'].values))\n",
    "            # --- End Color Mapping ---\n",
    "\n",
    "\n",
    "            ax_proj_barplot = sns.barplot(\n",
    "                x='projection_score',\n",
    "                y='occupation',\n",
    "                data=df_selected_proj,\n",
    "                palette=colors, # Pass the generated colors directly\n",
    "                orient='h'\n",
    "                # Note: 'hue' is not used here as color represents the score itself\n",
    "            )\n",
    "\n",
    "            plt.title(f'Gender Projection Scores (Higher = More \"Man\"-Associated)', fontsize=16)\n",
    "            plt.xlabel('Gender Projection Score (on \"man\" - \"woman\" axis)', fontsize=12)\n",
    "            plt.ylabel('Occupation', fontsize=12)\n",
    "\n",
    "            # Add vertical line for the median score across ALL occupations\n",
    "            plt.axvline(x=median_projection_score, color='black', linestyle='--', linewidth=1.5, label=f'Median = {median_projection_score:.2f}')\n",
    "            plt.legend() # Show the median line label\n",
    "\n",
    "            # Optional: Add line at x=0 for reference if it's meaningful\n",
    "            # plt.axvline(x=0, color='grey', linestyle=':', linewidth=1)\n",
    "\n",
    "            plt.tight_layout()\n",
    "\n",
    "            # Save the plot\n",
    "            plt.savefig(PROJECTION_BARPLOT_OUTPUT_PNG, dpi=300, bbox_inches='tight')\n",
    "            print(f\"Projection bar plot saved successfully to {PROJECTION_BARPLOT_OUTPUT_PNG}\")\n",
    "            plt.close() # Close the plot figure\n",
    "\n",
    "        except Exception as e:\n",
    "            print(f\"Error generating projection bar plot: {e}\")\n",
    "            plt.close()"
   ]
  }
 ],
 "metadata": {
  "jupytext": {
   "encoding": "# -*- coding: utf-8 -*-"
  },
  "kernelspec": {
   "display_name": "llm_env",
   "language": "python",
   "name": "python3"
  },
  "language_info": {
   "codemirror_mode": {
    "name": "ipython",
    "version": 3
   },
   "file_extension": ".py",
   "mimetype": "text/x-python",
   "name": "python",
   "nbconvert_exporter": "python",
   "pygments_lexer": "ipython3",
   "version": "3.10.16"
  }
 },
 "nbformat": 4,
 "nbformat_minor": 5
}
