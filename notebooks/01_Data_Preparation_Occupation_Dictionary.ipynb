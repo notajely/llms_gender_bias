{
 "cells": [
  {
   "cell_type": "markdown",
   "id": "367b3915",
   "metadata": {},
   "source": [
    "# Notebook 1: Data Preparation - Loading the Occupation-Gender Dictionary\n",
    "\n",
    "**Objective:** Load the pre-compiled occupation-gender stereotype dictionary, validate its contents, and prepare it for use in subsequent analysis notebooks. This dictionary is expected to contain the 100 curated occupations along with their BLS gender statistics and stereotype labels.\n",
    "\n",
    "**Based on Project Structure:** This notebook assumes the primary input is `data/occupation_gender_data.csv`."
   ]
  },
  {
   "cell_type": "markdown",
   "id": "48986b2d",
   "metadata": {},
   "source": [
    "## 1. Import Libraries"
   ]
  },
  {
   "cell_type": "code",
   "execution_count": 1,
   "id": "9055500c",
   "metadata": {},
   "outputs": [],
   "source": [
    "import pandas as pd\n",
    "import numpy as np\n",
    "import os\n",
    "from pathlib import Path\n"
   ]
  },
  {
   "cell_type": "markdown",
   "id": "cf38e70f",
   "metadata": {},
   "source": [
    "## 2. Configuration"
   ]
  },
  {
   "cell_type": "code",
   "execution_count": 16,
   "id": "791f6dc3",
   "metadata": {},
   "outputs": [],
   "source": [
    "current_dir = Path.cwd()\n",
    "\n",
    "# Assuming the notebook is in the 'notebooks' directory\n",
    "project_root = current_dir.parent  # Go up one level to reach project root\n",
    "\n",
    "data_dir = project_root / 'data'\n",
    "raw_data_dir = data_dir / 'raw'\n",
    "processed_data_dir = data_dir / 'processed'\n",
    "\n",
    "# Create directories if they don't exist\n",
    "raw_data_dir.mkdir(parents=True, exist_ok=True)\n",
    "processed_data_dir.mkdir(parents=True, exist_ok=True)\n",
    "\n",
    "# Define the input file path\n",
    "INPUT_CSV_FILE = data_dir / 'occupation_gender_data.csv'\n",
    "\n",
    "# Check if the file exists before trying to read it\n",
    "if not INPUT_CSV_FILE.exists():\n",
    "    print(f\"Warning: The file {INPUT_CSV_FILE} does not exist.\")\n",
    "    print(f\"Please ensure the file is placed in: {raw_data_dir}\")\n"
   ]
  },
  {
   "cell_type": "code",
   "execution_count": 10,
   "id": "4bed5781",
   "metadata": {},
   "outputs": [],
   "source": [
    "RESULTS_DIR = project_root / 'results'\n",
    "# Create results directory if it doesn't exist\n",
    "RESULTS_DIR.mkdir(parents=True, exist_ok=True)\n",
    "# Filename for the output dictionary\n",
    "OUTPUT_CSV_FILE = RESULTS_DIR / 'occupation_dictionary_validated.csv'"
   ]
  },
  {
   "cell_type": "code",
   "execution_count": 11,
   "id": "fe8f632b",
   "metadata": {},
   "outputs": [],
   "source": [
    "# --- Expected Columns ---\n",
    "# List the column names expected in the input CSV based on exp1.py and the paper\n",
    "# Adjust these if your CSV uses different names\n",
    "EXPECTED_COLUMNS = [\n",
    "    'occupation',      # Curated occupation name\n",
    "    'bls_female',      # Female ratio (e.g., 0.868) or percentage\n",
    "    'bls_male',        # Male ratio (e.g., 0.132) or percentage\n",
    "    'bls_label'        # Stereotype label ('female-stereotyped', 'male-stereotyped', 'neutral')\n",
    "]\n",
    "# Define which column represents the female proportion (ratio or percentage)\n",
    "FEMALE_PROP_COL = 'bls_female'\n",
    "# Define if the female proportion column is a percentage (True) or ratio (False)\n",
    "IS_PERCENTAGE = False # Set to True if 'bls_female' is 0-100, False if 0-1"
   ]
  },
  {
   "cell_type": "code",
   "execution_count": 12,
   "id": "14bbbcca",
   "metadata": {},
   "outputs": [],
   "source": [
    "# Create results directory if it doesn't exist\n",
    "os.makedirs(RESULTS_DIR, exist_ok=True)"
   ]
  },
  {
   "cell_type": "markdown",
   "id": "6defcd13",
   "metadata": {},
   "source": [
    "## 3. Load Data"
   ]
  },
  {
   "cell_type": "code",
   "execution_count": 17,
   "id": "909d9a10",
   "metadata": {},
   "outputs": [
    {
     "name": "stdout",
     "output_type": "stream",
     "text": [
      "Loading occupation dictionary from: /Users/jessie/Documents/Projects/master_thesis_llms_bias/data/occupation_gender_data.csv\n"
     ]
    }
   ],
   "source": [
    "print(f\"Loading occupation dictionary from: {INPUT_CSV_FILE}\")"
   ]
  },
  {
   "cell_type": "code",
   "execution_count": 14,
   "id": "f50d8362",
   "metadata": {},
   "outputs": [],
   "source": [
    "# Check if the input file exists before attempting to load it\n",
    "if not os.path.exists(INPUT_CSV_FILE):\n",
    "    print(f\"Error: The input file '{INPUT_CSV_FILE}' does not exist.\")\n",
    "    print(\"Please ensure the file is located in the correct directory relative to this notebook.\")\n",
    "    print(\"If the file is missing, you may need to download or generate it.\")\n",
    "    raise FileNotFoundError(f\"Input file not found: {INPUT_CSV_FILE}\")"
   ]
  },
  {
   "cell_type": "code",
   "execution_count": 15,
   "id": "8a375e21",
   "metadata": {},
   "outputs": [
    {
     "name": "stdout",
     "output_type": "stream",
     "text": [
      "Successfully loaded 100 rows.\n"
     ]
    }
   ],
   "source": [
    "try:\n",
    "    df_dictionary = pd.read_csv(INPUT_CSV_FILE)\n",
    "    print(f\"Successfully loaded {len(df_dictionary)} rows.\")\n",
    "except FileNotFoundError:\n",
    "    print(f\"Error: Input file not found at {INPUT_CSV_FILE}\")\n",
    "    print(\"Please ensure the path is correct relative to the notebook's location.\")\n",
    "    raise\n",
    "except Exception as e:\n",
    "    print(f\"Error loading CSV: {e}\")\n",
    "    raise"
   ]
  },
  {
   "cell_type": "markdown",
   "id": "97dfdfdc",
   "metadata": {},
   "source": [
    "## 4. Validate Data"
   ]
  },
  {
   "cell_type": "code",
   "execution_count": 19,
   "id": "ca9d0aca",
   "metadata": {},
   "outputs": [
    {
     "name": "stdout",
     "output_type": "stream",
     "text": [
      "All expected columns are present.\n"
     ]
    }
   ],
   "source": [
    "# Check for expected columns\n",
    "missing_cols = [col for col in EXPECTED_COLUMNS if col not in df_dictionary.columns]\n",
    "if missing_cols:\n",
    "    print(f\"Error: Missing expected columns: {missing_cols}\")\n",
    "    print(f\"Available columns are: {df_dictionary.columns.tolist()}\")\n",
    "    raise ValueError(\"Input CSV does not have the expected columns.\")\n",
    "else:\n",
    "    print(\"All expected columns are present.\")"
   ]
  },
  {
   "cell_type": "code",
   "execution_count": 20,
   "id": "1707131c",
   "metadata": {},
   "outputs": [],
   "source": [
    "# Clean occupation names (remove leading/trailing whitespace)\n",
    "df_dictionary['occupation'] = df_dictionary['occupation'].str.strip()"
   ]
  },
  {
   "cell_type": "code",
   "execution_count": null,
   "id": "2a54a1b9",
   "metadata": {},
   "outputs": [],
   "source": [
    "# Validate numeric columns (female/male proportions)\n",
    "numeric_cols_to_check = ['bls_female', 'bls_male']\n",
    "for col in numeric_cols_to_check:\n",
    "    if col in df_dictionary.columns:\n",
    "        # Convert to numeric, coercing errors to NaN\n",
    "        original_nan_count = df_dictionary[col].isnull().sum()\n",
    "        df_dictionary[col] = pd.to_numeric(df_dictionary[col], errors='coerce')\n",
    "        new_nan_count = df_dictionary[col].isnull().sum()\n",
    "        if new_nan_count > original_nan_count:\n",
    "            print(f\"Warning: Column '{col}' contained non-numeric values that were converted to NaN.\")\n",
    "        # Check for NaNs\n",
    "        if df_dictionary[col].isnull().any():\n",
    "             print(f\"Warning: Column '{col}' contains NaN values.\")"
   ]
  },
  {
   "cell_type": "code",
   "execution_count": 22,
   "id": "2aac2408",
   "metadata": {
    "lines_to_next_cell": 2
   },
   "outputs": [
    {
     "name": "stdout",
     "output_type": "stream",
     "text": [
      "Ensured 'bls_female_ratio' and 'bls_male_ratio' (0-1 scale) columns exist.\n"
     ]
    }
   ],
   "source": [
    "# Standardize Female/Male Ratios (ensure they are 0-1)\n",
    "if FEMALE_PROP_COL in df_dictionary.columns:\n",
    "    if IS_PERCENTAGE:\n",
    "        print(f\"Converting '{FEMALE_PROP_COL}' from percentage to ratio (dividing by 100).\")\n",
    "        df_dictionary['bls_female_ratio'] = df_dictionary[FEMALE_PROP_COL] / 100.0\n",
    "    else:\n",
    "        # Assume it's already a ratio, just copy/rename for consistency\n",
    "        df_dictionary['bls_female_ratio'] = df_dictionary[FEMALE_PROP_COL]\n",
    "        # Check if values are potentially percentages by mistake\n",
    "        if (df_dictionary['bls_female_ratio'] > 1.0).any():\n",
    "             print(f\"Warning: Column '{FEMALE_PROP_COL}' was expected to be a ratio (0-1), but contains values > 1. Check IS_PERCENTAGE setting.\")\n",
    "\n",
    "    # Calculate male ratio if not present or to ensure consistency\n",
    "    df_dictionary['bls_male_ratio'] = 1.0 - df_dictionary['bls_female_ratio']\n",
    "    print(\"Ensured 'bls_female_ratio' and 'bls_male_ratio' (0-1 scale) columns exist.\")"
   ]
  },
  {
   "cell_type": "code",
   "execution_count": 23,
   "id": "48c84505",
   "metadata": {},
   "outputs": [
    {
     "name": "stdout",
     "output_type": "stream",
     "text": [
      "Values in 'bls_label' column are within expected categories.\n"
     ]
    }
   ],
   "source": [
    "# Validate bls_label categories\n",
    "expected_labels = {'female-stereotyped', 'male-stereotyped', 'neutral', 'unknown'} # Allow 'unknown' as per exp1.py filter\n",
    "actual_labels = set(df_dictionary['bls_label'].unique())\n",
    "unexpected_labels = actual_labels - expected_labels\n",
    "if unexpected_labels:\n",
    "    print(f\"Warning: Found unexpected values in 'bls_label' column: {unexpected_labels}\")\n",
    "    print(f\"Expected values are typically within: {expected_labels}\")\n",
    "else:\n",
    "    print(\"Values in 'bls_label' column are within expected categories.\")"
   ]
  },
  {
   "cell_type": "code",
   "execution_count": null,
   "id": "fc7dc9ae",
   "metadata": {
    "lines_to_next_cell": 2
   },
   "outputs": [
    {
     "name": "stdout",
     "output_type": "stream",
     "text": [
      "\n",
      "No duplicate occupation names found.\n"
     ]
    }
   ],
   "source": [
    "# Check for duplicates\n",
    "duplicates = df_dictionary[df_dictionary.duplicated(subset=['occupation'], keep=False)]\n",
    "if not duplicates.empty:\n",
    "    print(f\"\\nWarning: Duplicate occupation names found after stripping whitespace:\")\n",
    "    print(duplicates.sort_values('occupation'))\n",
    "\n",
    "else:\n",
    "     print(\"\\nNo duplicate occupation names found.\")"
   ]
  },
  {
   "cell_type": "markdown",
   "id": "10676373",
   "metadata": {},
   "source": [
    "## 5. Final Selection and Display"
   ]
  },
  {
   "cell_type": "code",
   "execution_count": 26,
   "id": "99794506",
   "metadata": {
    "lines_to_next_cell": 2
   },
   "outputs": [],
   "source": [
    "# Select and order columns for the final output\n",
    "final_columns = [\n",
    "    'occupation',\n",
    "    'bls_female_ratio',\n",
    "    'bls_male_ratio',\n",
    "    'bls_label'\n",
    "]\n",
    "# Add original proportion columns if they exist and are desired\n",
    "if FEMALE_PROP_COL in df_dictionary.columns and 'bls_female_ratio' in df_dictionary.columns and FEMALE_PROP_COL != 'bls_female_ratio':\n",
    "     final_columns.append(FEMALE_PROP_COL)\n",
    "if 'bls_male' in df_dictionary.columns and 'bls_male_ratio' in df_dictionary.columns and 'bls_male' != 'bls_male_ratio':\n",
    "      final_columns.append('bls_male')"
   ]
  },
  {
   "cell_type": "code",
   "execution_count": 27,
   "id": "76fa13e9",
   "metadata": {},
   "outputs": [],
   "source": [
    "# Ensure only existing columns are selected\n",
    "final_columns = [col for col in final_columns if col in df_dictionary.columns]"
   ]
  },
  {
   "cell_type": "code",
   "execution_count": 28,
   "id": "b4c14621",
   "metadata": {},
   "outputs": [],
   "source": [
    "df_final_dictionary = df_dictionary[final_columns].copy()"
   ]
  },
  {
   "cell_type": "code",
   "execution_count": 29,
   "id": "cdd63691",
   "metadata": {},
   "outputs": [
    {
     "name": "stdout",
     "output_type": "stream",
     "text": [
      "\n",
      "Final dictionary shape: (100, 6)\n"
     ]
    }
   ],
   "source": [
    "# --- Final Verification ---\n",
    "print(f\"\\nFinal dictionary shape: {df_final_dictionary.shape}\")\n",
    "expected_rows = 100 # Based on paper description\n",
    "if df_final_dictionary.shape[0] != expected_rows:\n",
    "     print(f\"Warning: Final dictionary has {df_final_dictionary.shape[0]} rows, but expected {expected_rows}. Please verify input data.\")"
   ]
  },
  {
   "cell_type": "code",
   "execution_count": 30,
   "id": "3f0a00f4",
   "metadata": {},
   "outputs": [
    {
     "name": "stdout",
     "output_type": "stream",
     "text": [
      "\n",
      "Final Dictionary Sample (first 5 rows):\n",
      "            occupation  bls_female_ratio  bls_male_ratio           bls_label  \\\n",
      "0      chief executive             0.330           0.670             neutral   \n",
      "1              manager             0.338           0.662             neutral   \n",
      "2    marketing manager             0.642           0.358             neutral   \n",
      "3        sales manager             0.329           0.671             neutral   \n",
      "4  fundraising manager             0.701           0.299  female-stereotyped   \n",
      "\n",
      "   bls_female  bls_male  \n",
      "0       0.330     0.670  \n",
      "1       0.338     0.662  \n",
      "2       0.642     0.358  \n",
      "3       0.329     0.671  \n",
      "4       0.701     0.299  \n"
     ]
    }
   ],
   "source": [
    "print(\"\\nFinal Dictionary Sample (first 5 rows):\")\n",
    "print(df_final_dictionary.head())"
   ]
  },
  {
   "cell_type": "code",
   "execution_count": 31,
   "id": "1f08e011",
   "metadata": {},
   "outputs": [
    {
     "name": "stdout",
     "output_type": "stream",
     "text": [
      "\n",
      "Stereotype Label Distribution:\n",
      "bls_label\n",
      "neutral               47\n",
      "female-stereotyped    27\n",
      "male-stereotyped      26\n",
      "Name: count, dtype: int64\n"
     ]
    }
   ],
   "source": [
    "print(\"\\nStereotype Label Distribution:\")\n",
    "print(df_final_dictionary['bls_label'].value_counts())"
   ]
  },
  {
   "cell_type": "code",
   "execution_count": 32,
   "id": "b9cdddc4",
   "metadata": {
    "lines_to_next_cell": 2
   },
   "outputs": [
    {
     "name": "stdout",
     "output_type": "stream",
     "text": [
      "\n",
      "Dataframe Info:\n",
      "<class 'pandas.core.frame.DataFrame'>\n",
      "RangeIndex: 100 entries, 0 to 99\n",
      "Data columns (total 6 columns):\n",
      " #   Column            Non-Null Count  Dtype  \n",
      "---  ------            --------------  -----  \n",
      " 0   occupation        100 non-null    object \n",
      " 1   bls_female_ratio  100 non-null    float64\n",
      " 2   bls_male_ratio    100 non-null    float64\n",
      " 3   bls_label         100 non-null    object \n",
      " 4   bls_female        100 non-null    float64\n",
      " 5   bls_male          100 non-null    float64\n",
      "dtypes: float64(4), object(2)\n",
      "memory usage: 4.8+ KB\n"
     ]
    }
   ],
   "source": [
    "print(\"\\nDataframe Info:\")\n",
    "df_final_dictionary.info()"
   ]
  },
  {
   "cell_type": "markdown",
   "id": "498eee12",
   "metadata": {},
   "source": [
    "## 6. Save Output"
   ]
  },
  {
   "cell_type": "code",
   "execution_count": 33,
   "id": "4a41f394",
   "metadata": {},
   "outputs": [
    {
     "name": "stdout",
     "output_type": "stream",
     "text": [
      "\n",
      "Saving validated occupation dictionary to /Users/jessie/Documents/Projects/master_thesis_llms_bias/results/occupation_dictionary_validated.csv...\n",
      "Dictionary saved successfully.\n"
     ]
    }
   ],
   "source": [
    "print(f\"\\nSaving validated occupation dictionary to {OUTPUT_CSV_FILE}...\")\n",
    "try:\n",
    "    df_final_dictionary.to_csv(OUTPUT_CSV_FILE, index=False, encoding='utf-8')\n",
    "    print(\"Dictionary saved successfully.\")\n",
    "except Exception as e:\n",
    "    print(f\"Error saving dictionary: {e}\")"
   ]
  }
 ],
 "metadata": {
  "jupytext": {
   "encoding": "# -*- coding: utf-8 -*-"
  },
  "kernelspec": {
   "display_name": "llm_env",
   "language": "python",
   "name": "python3"
  },
  "language_info": {
   "codemirror_mode": {
    "name": "ipython",
    "version": 3
   },
   "file_extension": ".py",
   "mimetype": "text/x-python",
   "name": "python",
   "nbconvert_exporter": "python",
   "pygments_lexer": "ipython3",
   "version": "3.10.16"
  }
 },
 "nbformat": 4,
 "nbformat_minor": 5
}
