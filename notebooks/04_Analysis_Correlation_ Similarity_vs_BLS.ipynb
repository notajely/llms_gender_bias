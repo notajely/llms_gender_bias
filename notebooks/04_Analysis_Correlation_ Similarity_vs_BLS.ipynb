{
 "cells": [
  {
   "cell_type": "markdown",
   "id": "672119e0",
   "metadata": {},
   "source": [
    "# Notebook 4: Correlation Analysis (Similarity Bias vs. BLS Demographics)\n",
    "\n",
    "**Objective:** Investigate the statistical relationship between the calculated similarity-based gender bias (from Notebook 3) and the real-world gender demographics of the workforce (from BLS data prepared in Notebook 1). This involves:\n",
    "1. Loading the similarity results and the validated occupation dictionary.\n",
    "2. Merging the datasets.\n",
    "3. Calculating the demographic gender bias from BLS data (Male % - Female %).\n",
    "4. Calculating Pearson and Spearman correlation coefficients between the similarity bias and BLS demographic bias.\n",
    "5. Generating a scatter plot to visualize the relationship (similar to Figure 5)."
   ]
  },
  {
   "cell_type": "markdown",
   "id": "8c1e2400",
   "metadata": {},
   "source": [
    "## 1. Import Libraries"
   ]
  },
  {
   "cell_type": "code",
   "execution_count": 1,
   "id": "e6e74202",
   "metadata": {},
   "outputs": [],
   "source": [
    "import pandas as pd\n",
    "import numpy as np\n",
    "import seaborn as sns\n",
    "import matplotlib.pyplot as plt\n",
    "from scipy import stats # For correlation calculation\n",
    "from pathlib import Path\n",
    "import os"
   ]
  },
  {
   "cell_type": "markdown",
   "id": "6f0a94cc",
   "metadata": {},
   "source": [
    "## 2. Configuration"
   ]
  },
  {
   "cell_type": "code",
   "execution_count": 2,
   "id": "17417989",
   "metadata": {},
   "outputs": [],
   "source": [
    "# --- Paths ---\n",
    "# Get project root assuming the notebook is in 'notebooks' directory\n",
    "current_dir = Path.cwd()\n",
    "project_root = current_dir.parent"
   ]
  },
  {
   "cell_type": "code",
   "execution_count": 3,
   "id": "2266a36e",
   "metadata": {},
   "outputs": [],
   "source": [
    "# Input files\n",
    "SIMILARITY_RESULTS_CSV = project_root / 'results' / 'cosine_similarity_results.csv'\n",
    "# Note: We use the *validated* dictionary from NB1 output, which already has ratios.\n",
    "DICT_INPUT_CSV = project_root / 'results' / 'occupation_dictionary_validated.csv'"
   ]
  },
  {
   "cell_type": "code",
   "execution_count": 4,
   "id": "c025a69e",
   "metadata": {},
   "outputs": [],
   "source": [
    "# Output files\n",
    "RESULTS_DIR = project_root / 'results'\n",
    "CORRELATION_PLOT_OUTPUT_PNG = RESULTS_DIR / 'correlation_similarity_vs_bls_figure5.png'\n",
    "# Optional: Save the data used for the plot\n",
    "CORRELATION_DATA_OUTPUT_CSV = RESULTS_DIR / 'correlation_analysis_sim_vs_bls_data.csv'"
   ]
  },
  {
   "cell_type": "code",
   "execution_count": 5,
   "id": "f142ace1",
   "metadata": {},
   "outputs": [],
   "source": [
    "# --- Plotting Parameters ---\n",
    "# Define specific colors for BLS labels (consistent with Notebook 3)\n",
    "BLS_LABEL_COLORS = {\n",
    "    'male-stereotyped': '#95B3D7',  # Blueish\n",
    "    'neutral': '#9DCDA9',          # Greenish\n",
    "    'female-stereotyped': '#FFB598' # Orangish/Reddish\n",
    "}"
   ]
  },
  {
   "cell_type": "code",
   "execution_count": 6,
   "id": "df7b448c",
   "metadata": {},
   "outputs": [],
   "source": [
    "# Create results directory if it doesn't exist\n",
    "RESULTS_DIR.mkdir(parents=True, exist_ok=True)"
   ]
  },
  {
   "cell_type": "markdown",
   "id": "7a5e5731",
   "metadata": {},
   "source": [
    "## 3. Load Data"
   ]
  },
  {
   "cell_type": "code",
   "execution_count": 8,
   "id": "5e738869",
   "metadata": {},
   "outputs": [
    {
     "name": "stdout",
     "output_type": "stream",
     "text": [
      "Loaded similarity results for 100 occupations.\n"
     ]
    }
   ],
   "source": [
    "# Load similarity results\n",
    "try:\n",
    "    df_similarity = pd.read_csv(SIMILARITY_RESULTS_CSV)\n",
    "    print(f\"Loaded similarity results for {len(df_similarity)} occupations.\")\n",
    "    # Check if necessary column exists\n",
    "    if 'similarity_bias' not in df_similarity.columns:\n",
    "        raise KeyError(\"Column 'similarity_bias' not found in the similarity results file.\")\n",
    "except FileNotFoundError:\n",
    "    print(f\"Error: Similarity results file not found at {SIMILARITY_RESULTS_CSV}\")\n",
    "    print(\"Please ensure Notebook 3 ran successfully.\")\n",
    "    raise\n",
    "except KeyError as e:\n",
    "    print(f\"Error: {e}\")\n",
    "    raise\n",
    "except Exception as e:\n",
    "    print(f\"Error loading similarity results CSV: {e}\")\n",
    "    raise"
   ]
  },
  {
   "cell_type": "code",
   "execution_count": 9,
   "id": "c6707e20",
   "metadata": {
    "lines_to_next_cell": 2
   },
   "outputs": [
    {
     "name": "stdout",
     "output_type": "stream",
     "text": [
      "Loaded dictionary with 100 entries.\n"
     ]
    }
   ],
   "source": [
    "# Load occupation dictionary (contains BLS ratios and labels)\n",
    "try:\n",
    "    df_dictionary = pd.read_csv(DICT_INPUT_CSV)\n",
    "    print(f\"Loaded dictionary with {len(df_dictionary)} entries.\")\n",
    "     # Check if necessary columns exist\n",
    "    if 'bls_male_ratio' not in df_dictionary.columns or 'bls_female_ratio' not in df_dictionary.columns or 'bls_label' not in df_dictionary.columns:\n",
    "        raise KeyError(\"Dictionary file must contain 'bls_male_ratio', 'bls_female_ratio', and 'bls_label'.\")\n",
    "except FileNotFoundError:\n",
    "    print(f\"Error: Dictionary file not found at {DICT_INPUT_CSV}\")\n",
    "    print(\"Please ensure Notebook 1 ran successfully.\")\n",
    "    raise\n",
    "except KeyError as e:\n",
    "     print(f\"Error: {e}\")\n",
    "     raise\n",
    "except Exception as e:\n",
    "    print(f\"Error loading dictionary CSV: {e}\")\n",
    "    raise"
   ]
  },
  {
   "cell_type": "markdown",
   "id": "cb83960c",
   "metadata": {},
   "source": [
    "## 4. Merge and Prepare Data"
   ]
  },
  {
   "cell_type": "code",
   "execution_count": 11,
   "id": "8690bc78",
   "metadata": {},
   "outputs": [],
   "source": [
    "# Select necessary columns before merge to avoid potential conflicts if columns overlap beyond 'occupation'\n",
    "cols_from_dict = ['occupation', 'bls_male_ratio', 'bls_female_ratio', 'bls_label']\n",
    "cols_from_sim = ['occupation', 'similarity_bias']"
   ]
  },
  {
   "cell_type": "code",
   "execution_count": 12,
   "id": "6783c59a",
   "metadata": {},
   "outputs": [],
   "source": [
    "df_merged = pd.merge(\n",
    "    df_dictionary[cols_from_dict],\n",
    "    df_similarity[cols_from_sim],\n",
    "    on='occupation',\n",
    "    how='inner' # Use inner join to ensure only occupations present in both datasets are kept\n",
    ")"
   ]
  },
  {
   "cell_type": "code",
   "execution_count": 13,
   "id": "bf33609f",
   "metadata": {},
   "outputs": [],
   "source": [
    "# Calculate BLS Demographic Gender Bias\n",
    "# Defined as (Male % - Female %), which is equivalent to (male_ratio - female_ratio)\n",
    "df_merged['bls_demographic_bias'] = df_merged['bls_male_ratio'] - df_merged['bls_female_ratio']"
   ]
  },
  {
   "cell_type": "code",
   "execution_count": 14,
   "id": "93ce1e66",
   "metadata": {},
   "outputs": [],
   "source": [
    "# Drop rows with NaN values in the columns needed for correlation\n",
    "cols_to_check_na = ['bls_demographic_bias', 'similarity_bias']\n",
    "rows_before_na_drop = len(df_merged)\n",
    "df_merged.dropna(subset=cols_to_check_na, inplace=True)\n",
    "rows_after_na_drop = len(df_merged)"
   ]
  },
  {
   "cell_type": "code",
   "execution_count": 15,
   "id": "97201f53",
   "metadata": {},
   "outputs": [],
   "source": [
    "if rows_after_na_drop < rows_before_na_drop:\n",
    "    print(f\"Dropped {rows_before_na_drop - rows_after_na_drop} rows with missing values in correlation columns.\")"
   ]
  },
  {
   "cell_type": "code",
   "execution_count": 16,
   "id": "f4e5709d",
   "metadata": {},
   "outputs": [
    {
     "name": "stdout",
     "output_type": "stream",
     "text": [
      "Prepared data for 100 occupations for correlation analysis.\n",
      "\n",
      "Sample of prepared data:\n",
      "            occupation           bls_label  bls_demographic_bias  \\\n",
      "0      chief executive             neutral                 0.340   \n",
      "1              manager             neutral                 0.324   \n",
      "2    marketing manager             neutral                -0.284   \n",
      "3        sales manager             neutral                 0.342   \n",
      "4  fundraising manager  female-stereotyped                -0.402   \n",
      "\n",
      "   similarity_bias  \n",
      "0        -0.000055  \n",
      "1         0.000889  \n",
      "2        -0.004225  \n",
      "3        -0.000962  \n",
      "4        -0.005224  \n"
     ]
    }
   ],
   "source": [
    "if df_merged.empty:\n",
    "    print(\"Error: No valid data remaining after merging and cleaning. Cannot perform correlation analysis.\")\n",
    "else:\n",
    "    print(f\"Prepared data for {len(df_merged)} occupations for correlation analysis.\")\n",
    "    print(\"\\nSample of prepared data:\")\n",
    "    print(df_merged[['occupation', 'bls_label', 'bls_demographic_bias', 'similarity_bias']].head())"
   ]
  },
  {
   "cell_type": "markdown",
   "id": "5f7bde69",
   "metadata": {},
   "source": [
    "## 5. Calculate Correlation Coefficients"
   ]
  },
  {
   "cell_type": "code",
   "execution_count": 18,
   "id": "d3cde216",
   "metadata": {},
   "outputs": [],
   "source": [
    "pearson_r, pearson_p = np.nan, np.nan\n",
    "spearman_rho, spearman_p = np.nan, np.nan\n",
    "correlation_text = \"Correlation could not be calculated.\""
   ]
  },
  {
   "cell_type": "code",
   "execution_count": 19,
   "id": "9c4a76aa",
   "metadata": {
    "lines_to_next_cell": 2
   },
   "outputs": [
    {
     "name": "stdout",
     "output_type": "stream",
     "text": [
      "Pearson Correlation: r = 0.0436, p = 0.6664\n",
      "Spearman Correlation: rho = 0.0264, p = 0.7942\n"
     ]
    }
   ],
   "source": [
    "if not df_merged.empty and len(df_merged) > 1:\n",
    "    try:\n",
    "        # Pearson correlation (linear relationship)\n",
    "        pearson_result = stats.pearsonr(df_merged['bls_demographic_bias'], df_merged['similarity_bias'])\n",
    "        pearson_r, pearson_p = pearson_result.statistic, pearson_result.pvalue\n",
    "        print(f\"Pearson Correlation: r = {pearson_r:.4f}, p = {pearson_p:.4f}\")\n",
    "\n",
    "        # Spearman correlation (monotonic relationship, less sensitive to outliers)\n",
    "        spearman_result = stats.spearmanr(df_merged['bls_demographic_bias'], df_merged['similarity_bias'])\n",
    "        spearman_rho, spearman_p = spearman_result.correlation, spearman_result.pvalue\n",
    "        print(f\"Spearman Correlation: rho = {spearman_rho:.4f}, p = {spearman_p:.4f}\")\n",
    "\n",
    "        # Format text for plot annotation (similar to Figure 5)\n",
    "        correlation_text = (\n",
    "            f'Pearson: r={pearson_r:.3f} (p={pearson_p:.3f})\\n'\n",
    "            f'Spearman: ρ={spearman_rho:.3f} (p={spearman_p:.3f})'\n",
    "        ) # Using ρ symbol for Spearman\n",
    "\n",
    "    except Exception as e:\n",
    "        print(f\"Error calculating correlations: {e}\")\n",
    "else:\n",
    "    print(\"Skipping correlation calculation: Not enough valid data.\")"
   ]
  },
  {
   "cell_type": "markdown",
   "id": "3e496c3e",
   "metadata": {},
   "source": [
    "## 6. Generate Scatter Plot (Figure 5)"
   ]
  },
  {
   "cell_type": "code",
   "execution_count": 20,
   "id": "178acc49",
   "metadata": {},
   "outputs": [
    {
     "name": "stdout",
     "output_type": "stream",
     "text": [
      "\n",
      "Generating correlation scatter plot...\n"
     ]
    }
   ],
   "source": [
    "print(\"\\nGenerating correlation scatter plot...\")"
   ]
  },
  {
   "cell_type": "code",
   "execution_count": 21,
   "id": "ff9d7291",
   "metadata": {
    "lines_to_next_cell": 2
   },
   "outputs": [
    {
     "name": "stdout",
     "output_type": "stream",
     "text": [
      "Correlation scatter plot saved successfully to /Users/jessie/Documents/Projects/master_thesis_llms_bias/results/correlation_similarity_vs_bls_figure5.png\n"
     ]
    }
   ],
   "source": [
    "if df_merged.empty:\n",
    "    print(\"Skipping scatter plot generation: No data available.\")\n",
    "else:\n",
    "    # --- Create Plot ---\n",
    "    try:\n",
    "        plt.figure(figsize=(11, 9)) # Adjusted size slightly for better readability\n",
    "\n",
    "        ax_scatter = sns.scatterplot(\n",
    "            data=df_merged,\n",
    "            x='bls_demographic_bias',\n",
    "            y='similarity_bias',\n",
    "            hue='bls_label',         # Color points by BLS label\n",
    "            palette=BLS_LABEL_COLORS,# Use predefined colors\n",
    "            s=70,                    # Point size\n",
    "            alpha=0.8,               # Point transparency\n",
    "            edgecolor=\"w\",           # Point edge color\n",
    "            linewidth=0.5\n",
    "        )\n",
    "\n",
    "        # Add regression line (linear fit)\n",
    "        sns.regplot(\n",
    "            data=df_merged,\n",
    "            x='bls_demographic_bias',\n",
    "            y='similarity_bias',\n",
    "            scatter=False,           # Don't replot the points\n",
    "            ci=95,                   # Show 95% confidence interval band\n",
    "            line_kws={'color': 'black', 'linestyle': '--', 'linewidth': 1.5},\n",
    "            ax=ax_scatter             # Ensure it plots on the same axes\n",
    "        )\n",
    "\n",
    "        # Add correlation text box\n",
    "        # Position slightly adjusted from the python script example to match Fig 5 better\n",
    "        plt.text(\n",
    "            0.03, 0.97, # Position: 3% from left, 97% from bottom (top-left area)\n",
    "            correlation_text,\n",
    "            transform=ax_scatter.transAxes, # Coordinates relative to axes\n",
    "            fontsize=10,\n",
    "            verticalalignment='top',\n",
    "            bbox=dict(boxstyle='round,pad=0.5', facecolor='white', alpha=0.8) # White box background\n",
    "        )\n",
    "\n",
    "        # Set labels and title\n",
    "        plt.title('Similarity-Based Gender Bias vs BLS Gender Bias', fontsize=16)\n",
    "        plt.xlabel('BLS Gender Bias (Male % - Female %)', fontsize=12)\n",
    "        plt.ylabel('Similarity-Based Gender Bias Score', fontsize=12)\n",
    "\n",
    "        # Set axis limits (BLS bias is naturally -1 to 1)\n",
    "        plt.xlim(-1.05, 1.05)\n",
    "        # Optional: Adjust y-axis limits if needed, otherwise let matplotlib decide\n",
    "        # sim_y_min, sim_y_max = df_merged['similarity_bias'].min(), df_merged['similarity_bias'].max()\n",
    "        # sim_y_pad = max((sim_y_max - sim_y_min) * 0.1, 0.001) # Add padding\n",
    "        # plt.ylim(sim_y_min - sim_y_pad, sim_y_max + sim_y_pad)\n",
    "\n",
    "\n",
    "        # Add reference lines at zero\n",
    "        plt.axhline(y=0, color='grey', linestyle=':', linewidth=1, alpha=0.7) # y=0 for similarity bias\n",
    "        plt.axvline(x=0, color='grey', linestyle=':', linewidth=1, alpha=0.7) # x=0 for BLS bias\n",
    "\n",
    "        # Adjust legend\n",
    "        plt.legend(title='BLS Label', fontsize=10, title_fontsize=11, loc='upper left', bbox_to_anchor=(1.02, 1))\n",
    "\n",
    "        plt.tight_layout(rect=[0, 0, 0.88, 1]) # Adjust layout for legend\n",
    "\n",
    "        # Save the plot\n",
    "        plt.savefig(CORRELATION_PLOT_OUTPUT_PNG, dpi=300, bbox_inches='tight')\n",
    "        print(f\"Correlation scatter plot saved successfully to {CORRELATION_PLOT_OUTPUT_PNG}\")\n",
    "        plt.close() # Close the plot figure\n",
    "\n",
    "    except Exception as e:\n",
    "        print(f\"Error generating scatter plot: {e}\")\n",
    "        plt.close()"
   ]
  },
  {
   "cell_type": "markdown",
   "id": "afb6fe90",
   "metadata": {},
   "source": [
    "## 7. Save Correlation Analysis Data (Optional)"
   ]
  },
  {
   "cell_type": "code",
   "execution_count": 23,
   "id": "db39e152",
   "metadata": {},
   "outputs": [
    {
     "name": "stdout",
     "output_type": "stream",
     "text": [
      "\n",
      "Saving data used for correlation analysis to /Users/jessie/Documents/Projects/master_thesis_llms_bias/results/correlation_analysis_sim_vs_bls_data.csv...\n",
      "Correlation data saved successfully.\n"
     ]
    }
   ],
   "source": [
    "print(f\"\\nSaving data used for correlation analysis to {CORRELATION_DATA_OUTPUT_CSV}...\")\n",
    "try:\n",
    "    df_merged.to_csv(CORRELATION_DATA_OUTPUT_CSV, index=False, encoding='utf-8')\n",
    "    print(\"Correlation data saved successfully.\")\n",
    "except Exception as e:\n",
    "    print(f\"Error saving correlation data: {e}\")"
   ]
  }
 ],
 "metadata": {
  "jupytext": {
   "encoding": "# -*- coding: utf-8 -*-"
  },
  "kernelspec": {
   "display_name": "llm_env",
   "language": "python",
   "name": "python3"
  },
  "language_info": {
   "codemirror_mode": {
    "name": "ipython",
    "version": 3
   },
   "file_extension": ".py",
   "mimetype": "text/x-python",
   "name": "python",
   "nbconvert_exporter": "python",
   "pygments_lexer": "ipython3",
   "version": "3.10.16"
  }
 },
 "nbformat": 4,
 "nbformat_minor": 5
}
