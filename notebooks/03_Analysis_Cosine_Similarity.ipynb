{
 "cells": [
  {
   "cell_type": "markdown",
   "id": "db6635b6",
   "metadata": {},
   "source": [
    "# Notebook 3: Cosine Similarity Analysis and Visualization\n",
    "\n",
    "**Objective:** Analyze occupational gender bias using cosine similarity between occupation embeddings and gender anchor embeddings ('he', 'she', 'man', 'woman'). This involves:\n",
    "1. Loading the pre-generated GPT-2 embeddings and the validated occupation dictionary.\n",
    "2. Calculating pairwise cosine similarities between each occupation and the four gender anchors.\n",
    "3. Calculating aggregate male/female similarity scores and the resulting 'Similarity Bias'.\n",
    "4. Visualizing the pairwise similarities using a heatmap (similar to Figure 3).\n",
    "5. Visualizing the 'Similarity Bias' distribution using a bar plot (similar to Figure 4).\n",
    "6. Saving the calculated similarity scores."
   ]
  },
  {
   "cell_type": "markdown",
   "id": "d35777a5",
   "metadata": {},
   "source": [
    "## 1. Import Libraries"
   ]
  },
  {
   "cell_type": "code",
   "execution_count": 1,
   "id": "0a21d33c",
   "metadata": {},
   "outputs": [],
   "source": [
    "import pandas as pd\n",
    "import numpy as np\n",
    "import seaborn as sns\n",
    "import matplotlib.pyplot as plt\n",
    "from sklearn.metrics.pairwise import cosine_similarity\n",
    "from pathlib import Path\n",
    "import os"
   ]
  },
  {
   "cell_type": "markdown",
   "id": "e8b18446",
   "metadata": {},
   "source": [
    "## 2. Configuration"
   ]
  },
  {
   "cell_type": "code",
   "execution_count": 2,
   "id": "00029492",
   "metadata": {},
   "outputs": [],
   "source": [
    "# --- Paths ---\n",
    "# Get project root assuming the notebook is in 'notebooks' directory\n",
    "current_dir = Path.cwd()\n",
    "project_root = current_dir.parent"
   ]
  },
  {
   "cell_type": "code",
   "execution_count": 3,
   "id": "0e800142",
   "metadata": {},
   "outputs": [],
   "source": [
    "# Input files\n",
    "DICT_INPUT_CSV = project_root / 'results' / 'occupation_dictionary_validated.csv'\n",
    "EMBEDDING_INPUT_FILE = project_root / 'results' / 'gpt2_static_embeddings.npz'"
   ]
  },
  {
   "cell_type": "code",
   "execution_count": 4,
   "id": "727ef4e1",
   "metadata": {},
   "outputs": [],
   "source": [
    "# Output files\n",
    "RESULTS_DIR = project_root / 'results'\n",
    "SIMILARITY_SCORES_OUTPUT_CSV = RESULTS_DIR / 'cosine_similarity_results.csv'\n",
    "HEATMAP_OUTPUT_PNG = RESULTS_DIR / 'similarity_heatmap_figure3.png'\n",
    "SIMILARITY_BIAS_BARPLOT_OUTPUT_PNG = RESULTS_DIR / 'similarity_bias_barplot_figure4.png'"
   ]
  },
  {
   "cell_type": "code",
   "execution_count": 5,
   "id": "d3968758",
   "metadata": {},
   "outputs": [],
   "source": [
    "# --- Parameters ---\n",
    "GENDER_TERMS = ['he', 'she', 'man', 'woman']\n",
    "# Number of occupations for the heatmap (adjust as needed)\n",
    "HEATMAP_NUM_OCCUPATIONS = 30\n",
    "# Number of occupations for the bar plot (top N/2 positive, bottom N/2 negative)\n",
    "BARPLOT_NUM_OCCUPATIONS = 30"
   ]
  },
  {
   "cell_type": "code",
   "execution_count": 6,
   "id": "ca0ca045",
   "metadata": {},
   "outputs": [],
   "source": [
    "# Define specific colors for BLS labels for consistency (adjust if needed)\n",
    "BLS_LABEL_COLORS = {\n",
    "    'male-stereotyped': '#95B3D7',  # Blueish\n",
    "    'neutral': '#9DCDA9',          # Greenish\n",
    "    'female-stereotyped': '#FFB598' # Orangish/Reddish\n",
    "    # Add 'unknown' if present and needs specific color\n",
    "    # 'unknown': 'grey'\n",
    "}"
   ]
  },
  {
   "cell_type": "code",
   "execution_count": 7,
   "id": "8ce834a4",
   "metadata": {},
   "outputs": [],
   "source": [
    "# Create results directory if it doesn't exist\n",
    "RESULTS_DIR.mkdir(parents=True, exist_ok=True)"
   ]
  },
  {
   "cell_type": "markdown",
   "id": "4c716185",
   "metadata": {},
   "source": [
    "## 3. Load Data"
   ]
  },
  {
   "cell_type": "code",
   "execution_count": 8,
   "id": "0ffbdd36",
   "metadata": {},
   "outputs": [
    {
     "name": "stdout",
     "output_type": "stream",
     "text": [
      "Loaded dictionary with 100 occupations.\n"
     ]
    }
   ],
   "source": [
    "# Load occupation dictionary\n",
    "try:\n",
    "    df_dictionary = pd.read_csv(DICT_INPUT_CSV)\n",
    "    print(f\"Loaded dictionary with {len(df_dictionary)} occupations.\")\n",
    "except FileNotFoundError:\n",
    "    print(f\"Error: Dictionary file not found at {DICT_INPUT_CSV}\")\n",
    "    print(\"Please ensure Notebook 1 ran successfully.\")\n",
    "    raise\n",
    "except Exception as e:\n",
    "    print(f\"Error loading dictionary CSV: {e}\")\n",
    "    raise"
   ]
  },
  {
   "cell_type": "code",
   "execution_count": 9,
   "id": "3f71c759",
   "metadata": {},
   "outputs": [
    {
     "name": "stdout",
     "output_type": "stream",
     "text": [
      "Loaded 104 embeddings.\n"
     ]
    }
   ],
   "source": [
    "# Load embeddings\n",
    "try:\n",
    "    embeddings_data = np.load(EMBEDDING_INPUT_FILE, allow_pickle=True)\n",
    "    # Convert NpzFile items to a standard dictionary\n",
    "    embeddings = {key: embeddings_data[key] for key in embeddings_data.files}\n",
    "    print(f\"Loaded {len(embeddings)} embeddings.\")\n",
    "except FileNotFoundError:\n",
    "    print(f\"Error: Embeddings file not found at {EMBEDDING_INPUT_FILE}\")\n",
    "    print(\"Please ensure Notebook 2 ran successfully.\")\n",
    "    raise\n",
    "except Exception as e:\n",
    "    print(f\"Error loading embeddings file: {e}\")\n",
    "    raise"
   ]
  },
  {
   "cell_type": "code",
   "execution_count": 10,
   "id": "b6c081e7",
   "metadata": {},
   "outputs": [],
   "source": [
    "# Verify essential gender embeddings are loaded\n",
    "if not all(term in embeddings for term in GENDER_TERMS):\n",
    "    missing_genders = [term for term in GENDER_TERMS if term not in embeddings]\n",
    "    raise ValueError(f\"Essential gender term embeddings missing from file: {missing_genders}\")"
   ]
  },
  {
   "cell_type": "markdown",
   "id": "15640df5",
   "metadata": {},
   "source": [
    "## 4. Calculate Similarities and Bias"
   ]
  },
  {
   "cell_type": "code",
   "execution_count": 11,
   "id": "ec86a74c",
   "metadata": {},
   "outputs": [],
   "source": [
    "results_list = []\n",
    "processed_occupations = set() # To handle potential duplicates in dictionary if not handled before"
   ]
  },
  {
   "cell_type": "code",
   "execution_count": 12,
   "id": "4405215d",
   "metadata": {
    "lines_to_next_cell": 2
   },
   "outputs": [],
   "source": [
    "for index, row in df_dictionary.iterrows():\n",
    "    occupation = row['occupation']\n",
    "\n",
    "    # Skip if already processed (in case duplicates exist)\n",
    "    if occupation in processed_occupations:\n",
    "        continue\n",
    "    processed_occupations.add(occupation)\n",
    "\n",
    "    if occupation in embeddings:\n",
    "        occ_emb = embeddings[occupation]\n",
    "        # Reshape for cosine_similarity function (expects 2D arrays)\n",
    "        occ_emb_2d = occ_emb.reshape(1, -1)\n",
    "\n",
    "        similarities = {}\n",
    "        try:\n",
    "            # Calculate similarity with each gender term\n",
    "            for term in GENDER_TERMS:\n",
    "                gender_emb = embeddings[term]\n",
    "                gender_emb_2d = gender_emb.reshape(1, -1)\n",
    "                sim_score = cosine_similarity(occ_emb_2d, gender_emb_2d)[0][0]\n",
    "                similarities[f'sim_{term}'] = sim_score # e.g., sim_he, sim_she\n",
    "\n",
    "            # Calculate aggregate scores and bias\n",
    "            male_sim = (similarities['sim_he'] + similarities['sim_man']) / 2.0\n",
    "            female_sim = (similarities['sim_she'] + similarities['sim_woman']) / 2.0\n",
    "            sim_bias = male_sim - female_sim\n",
    "\n",
    "            results_list.append({\n",
    "                'occupation': occupation,\n",
    "                **similarities, # Add sim_he, sim_she, etc.\n",
    "                'male_similarity_agg': male_sim,\n",
    "                'female_similarity_agg': female_sim,\n",
    "                'similarity_bias': sim_bias\n",
    "            })\n",
    "        except Exception as e:\n",
    "             print(f\"Error calculating similarity for '{occupation}': {e}\")\n",
    "    else:\n",
    "        print(f\"Warning: Embedding not found for occupation '{occupation}'. Skipping.\")"
   ]
  },
  {
   "cell_type": "code",
   "execution_count": 13,
   "id": "3ce91dbf",
   "metadata": {},
   "outputs": [],
   "source": [
    "# Convert results to DataFrame\n",
    "df_results = pd.DataFrame(results_list)"
   ]
  },
  {
   "cell_type": "code",
   "execution_count": 14,
   "id": "db777f92",
   "metadata": {},
   "outputs": [
    {
     "name": "stdout",
     "output_type": "stream",
     "text": [
      "Calculated similarity scores for 100 occupations.\n"
     ]
    }
   ],
   "source": [
    "if df_results.empty:\n",
    "    print(\"Error: No similarity results were generated. Check input data and embeddings.\")\n",
    "else:\n",
    "     print(f\"Calculated similarity scores for {len(df_results)} occupations.\")"
   ]
  },
  {
   "cell_type": "markdown",
   "id": "d55e1736",
   "metadata": {},
   "source": [
    "## 5. Merge Results with Dictionary"
   ]
  },
  {
   "cell_type": "code",
   "execution_count": 15,
   "id": "308ea9bf",
   "metadata": {},
   "outputs": [],
   "source": [
    "# Merge calculated scores back into the main dictionary dataframe\n",
    "df_merged = pd.merge(df_dictionary, df_results, on='occupation', how='inner')"
   ]
  },
  {
   "cell_type": "code",
   "execution_count": 16,
   "id": "7a72040e",
   "metadata": {
    "lines_to_next_cell": 2
   },
   "outputs": [
    {
     "name": "stdout",
     "output_type": "stream",
     "text": [
      "Final merged dataframe shape: (100, 13)\n",
      "Merged DataFrame sample:\n",
      "            occupation           bls_label  similarity_bias    sim_he  \\\n",
      "0      chief executive             neutral        -0.000055  0.978794   \n",
      "1              manager             neutral         0.000889  0.996040   \n",
      "2    marketing manager             neutral        -0.004225  0.964611   \n",
      "3        sales manager             neutral        -0.000962  0.976865   \n",
      "4  fundraising manager  female-stereotyped        -0.005224  0.958652   \n",
      "\n",
      "    sim_she   sim_man  sim_woman  \n",
      "0  0.978539  0.984331   0.984696  \n",
      "1  0.996083  0.998030   0.996209  \n",
      "2  0.967078  0.975647   0.981630  \n",
      "3  0.977531  0.984261   0.985520  \n",
      "4  0.961820  0.970997   0.978276  \n"
     ]
    }
   ],
   "source": [
    "print(f\"Final merged dataframe shape: {df_merged.shape}\")\n",
    "print(\"Merged DataFrame sample:\")\n",
    "print(df_merged[['occupation', 'bls_label', 'similarity_bias', 'sim_he', 'sim_she', 'sim_man', 'sim_woman']].head())"
   ]
  },
  {
   "cell_type": "markdown",
   "id": "3b593c38",
   "metadata": {},
   "source": [
    "## 6. Save Calculated Scores"
   ]
  },
  {
   "cell_type": "code",
   "execution_count": 17,
   "id": "04167fc7",
   "metadata": {},
   "outputs": [
    {
     "name": "stdout",
     "output_type": "stream",
     "text": [
      "\n",
      "Saving calculated similarity scores to /Users/jessie/Documents/Projects/master_thesis_llms_bias/results/cosine_similarity_results.csv...\n",
      "Scores saved successfully.\n"
     ]
    }
   ],
   "source": [
    "print(f\"\\nSaving calculated similarity scores to {SIMILARITY_SCORES_OUTPUT_CSV}...\")\n",
    "try:\n",
    "    df_merged.to_csv(SIMILARITY_SCORES_OUTPUT_CSV, index=False, encoding='utf-8')\n",
    "    print(\"Scores saved successfully.\")\n",
    "except Exception as e:\n",
    "    print(f\"Error saving scores CSV: {e}\")"
   ]
  },
  {
   "cell_type": "markdown",
   "id": "59739428",
   "metadata": {},
   "source": [
    "## 7. Generate Heatmap (Figure 3)"
   ]
  },
  {
   "cell_type": "code",
   "execution_count": 18,
   "id": "98b2f1a2",
   "metadata": {
    "lines_to_next_cell": 2
   },
   "outputs": [
    {
     "name": "stdout",
     "output_type": "stream",
     "text": [
      "Heatmap saved successfully to /Users/jessie/Documents/Projects/master_thesis_llms_bias/results/similarity_heatmap_figure3.png\n"
     ]
    }
   ],
   "source": [
    "if df_merged.empty or 'similarity_bias' not in df_merged.columns:\n",
    "    print(\"Skipping heatmap generation: No data or 'similarity_bias' column missing.\")\n",
    "else:\n",
    "    # Sort by absolute similarity bias to select most biased (positive or negative)\n",
    "    df_merged['abs_similarity_bias'] = df_merged['similarity_bias'].abs()\n",
    "    df_sorted_heatmap = df_merged.sort_values('abs_similarity_bias', ascending=False)\n",
    "\n",
    "    # Select top N occupations\n",
    "    num_to_select_heatmap = min(HEATMAP_NUM_OCCUPATIONS, len(df_sorted_heatmap))\n",
    "    if num_to_select_heatmap == 0:\n",
    "        print(\"Skipping heatmap: No occupations to display.\")\n",
    "    else:\n",
    "        df_heatmap_data = df_sorted_heatmap.head(num_to_select_heatmap)\n",
    "\n",
    "        # Prepare data: index = occupation, columns = similarities\n",
    "        heatmap_pivot = df_heatmap_data.set_index('occupation')[['sim_he', 'sim_she', 'sim_man', 'sim_woman']]\n",
    "        # Rename columns for better display\n",
    "        heatmap_pivot.columns = ['he', 'she', 'man', 'woman']\n",
    "\n",
    "        # --- Create Plot ---\n",
    "        try:\n",
    "            # Adjust figure height based on number of occupations\n",
    "            fig_height_heatmap = max(8, num_to_select_heatmap * 0.35)\n",
    "            plt.figure(figsize=(10, fig_height_heatmap))\n",
    "\n",
    "            # Calculate min/max for consistent color scaling, handle potential NaNs\n",
    "            valid_data_heatmap = heatmap_pivot.values[~np.isnan(heatmap_pivot.values)]\n",
    "            if valid_data_heatmap.size == 0:\n",
    "                 print(\"Warning: No valid data for heatmap color scaling. Using default range.\")\n",
    "                 vmin, vmax = 0.95, 1.0 # Fallback based on paper observation\n",
    "            else:\n",
    "                 # Set tight bounds around the actual data range\n",
    "                 vmin = np.nanmin(valid_data_heatmap)\n",
    "                 vmax = np.nanmax(valid_data_heatmap)\n",
    "                 # Optional: Add slight padding if desired\n",
    "                 # padding = (vmax - vmin) * 0.01\n",
    "                 # vmin -= padding\n",
    "                 # vmax += padding\n",
    "\n",
    "            ax_heatmap = sns.heatmap(\n",
    "                heatmap_pivot,\n",
    "                annot=True,       # Show similarity scores\n",
    "                fmt=\".4f\",        # Format scores to 4 decimal places\n",
    "                cmap=\"coolwarm\",  # Colormap (red=high, blue=low)\n",
    "                vmin=vmin, vmax=vmax, # Use calculated bounds for color scale\n",
    "                linewidths=0.5,\n",
    "                linecolor='white',\n",
    "                cbar_kws={'label': 'Cosine Similarity'} # Label for the color bar\n",
    "            )\n",
    "            plt.title(f'Cosine Similarity between Top {num_to_select_heatmap} Occupations and Gender Terms\\n(Sorted by Absolute Similarity Bias)', fontsize=14)\n",
    "            plt.xlabel('Gender Terms', fontsize=12)\n",
    "            plt.ylabel('Occupation', fontsize=12)\n",
    "            plt.yticks(rotation=0) # Keep occupation names horizontal\n",
    "            plt.tight_layout()\n",
    "\n",
    "            # Save the plot\n",
    "            plt.savefig(HEATMAP_OUTPUT_PNG, dpi=300, bbox_inches='tight')\n",
    "            print(f\"Heatmap saved successfully to {HEATMAP_OUTPUT_PNG}\")\n",
    "            plt.close() # Close the plot figure to free memory\n",
    "\n",
    "        except Exception as e:\n",
    "            print(f\"Error generating heatmap: {e}\")\n",
    "            plt.close() # Ensure plot is closed even if error occurs"
   ]
  },
  {
   "cell_type": "markdown",
   "id": "3e661ac2",
   "metadata": {},
   "source": [
    "## 8. Generate Similarity Bias Bar Plot (Figure 4)"
   ]
  },
  {
   "cell_type": "code",
   "execution_count": 19,
   "id": "ec54d4cf",
   "metadata": {
    "lines_to_next_cell": 2
   },
   "outputs": [
    {
     "name": "stdout",
     "output_type": "stream",
     "text": [
      "Similarity bias bar plot saved successfully to /Users/jessie/Documents/Projects/master_thesis_llms_bias/results/similarity_bias_barplot_figure4.png\n"
     ]
    }
   ],
   "source": [
    "if df_merged.empty or 'similarity_bias' not in df_merged.columns:\n",
    "    print(\"Skipping similarity bias bar plot generation: No data or 'similarity_bias' column missing.\")\n",
    "else:\n",
    "    # Sort by similarity bias score\n",
    "    df_sorted_barplot = df_merged.sort_values('similarity_bias', ascending=False).dropna(subset=['similarity_bias'])\n",
    "\n",
    "    # Select top N/2 most positive and bottom N/2 most negative biased occupations\n",
    "    n_each_barplot = BARPLOT_NUM_OCCUPATIONS // 2\n",
    "    if len(df_sorted_barplot) < BARPLOT_NUM_OCCUPATIONS:\n",
    "        print(f\"Warning: Fewer than {BARPLOT_NUM_OCCUPATIONS} occupations with valid scores ({len(df_sorted_barplot)}). Plotting all available.\")\n",
    "        df_selected_barplot = df_sorted_barplot\n",
    "    elif len(df_sorted_barplot) >= n_each_barplot * 2:\n",
    "        top_n_barplot = df_sorted_barplot.head(n_each_barplot)\n",
    "        bottom_n_barplot = df_sorted_barplot.tail(n_each_barplot)\n",
    "        # Combine and re-sort for consistent order in plot\n",
    "        df_selected_barplot = pd.concat([top_n_barplot, bottom_n_barplot]).sort_values('similarity_bias', ascending=False)\n",
    "    else: # Handle cases with < n_each*2 but >= n_each\n",
    "         print(f\"Warning: Only {len(df_sorted_barplot)} occupations available for bar plot. Plotting all.\")\n",
    "         df_selected_barplot = df_sorted_barplot\n",
    "\n",
    "    if df_selected_barplot.empty:\n",
    "        print(\"Skipping similarity bias bar plot: No occupations selected.\")\n",
    "    else:\n",
    "        # --- Create Plot ---\n",
    "        try:\n",
    "            # Adjust figure height\n",
    "            fig_height_barplot = max(8, len(df_selected_barplot) * 0.30)\n",
    "            plt.figure(figsize=(12, fig_height_barplot))\n",
    "\n",
    "            ax_barplot = sns.barplot(\n",
    "                x='similarity_bias',\n",
    "                y='occupation',\n",
    "                data=df_selected_barplot,\n",
    "                hue='bls_label',    # Color bars by BLS stereotype label\n",
    "                palette=BLS_LABEL_COLORS, # Use predefined colors\n",
    "                dodge=False,        # Don't dodge bars when using hue for coloring same bar\n",
    "                orient='h'\n",
    "            )\n",
    "\n",
    "            plt.title('Similarity-Based Gender Bias Scores (Higher = More Male-Associated)', fontsize=16)\n",
    "            plt.xlabel('Similarity Bias Score (Avg Male Sim - Avg Female Sim)', fontsize=12)\n",
    "            plt.ylabel('Occupation', fontsize=12)\n",
    "            plt.axvline(x=0, color='grey', linestyle='--', linewidth=1) # Add line at zero bias\n",
    "\n",
    "            # Handle legend\n",
    "            handles, labels = ax_barplot.get_legend_handles_labels()\n",
    "            # Create legend with unique labels only (if duplicates arise from hue)\n",
    "            unique_labels = []\n",
    "            unique_handles = []\n",
    "            for handle, label in zip(handles, labels):\n",
    "                 if label not in unique_labels:\n",
    "                      unique_labels.append(label)\n",
    "                      unique_handles.append(handle)\n",
    "            ax_barplot.legend(unique_handles, unique_labels, title='BLS Label', bbox_to_anchor=(1.02, 1), loc='upper left')\n",
    "\n",
    "            plt.tight_layout(rect=[0, 0, 0.88, 1]) # Adjust layout to make space for legend\n",
    "\n",
    "            # Save the plot\n",
    "            plt.savefig(SIMILARITY_BIAS_BARPLOT_OUTPUT_PNG, dpi=300, bbox_inches='tight')\n",
    "            print(f\"Similarity bias bar plot saved successfully to {SIMILARITY_BIAS_BARPLOT_OUTPUT_PNG}\")\n",
    "            plt.close() # Close the plot figure\n",
    "\n",
    "        except Exception as e:\n",
    "            print(f\"Error generating similarity bias bar plot: {e}\")\n",
    "            plt.close() # Ensure plot is closed"
   ]
  }
 ],
 "metadata": {
  "jupytext": {
   "encoding": "# -*- coding: utf-8 -*-"
  },
  "kernelspec": {
   "display_name": "llm_env",
   "language": "python",
   "name": "python3"
  },
  "language_info": {
   "codemirror_mode": {
    "name": "ipython",
    "version": 3
   },
   "file_extension": ".py",
   "mimetype": "text/x-python",
   "name": "python",
   "nbconvert_exporter": "python",
   "pygments_lexer": "ipython3",
   "version": "3.10.16"
  }
 },
 "nbformat": 4,
 "nbformat_minor": 5
}
